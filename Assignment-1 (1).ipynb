{
 "cells": [
  {
   "cell_type": "markdown",
   "id": "fc68b6b1-e731-4bf0-b5cc-3c0555b1e6a8",
   "metadata": {},
   "source": [
    "ASSIGNMENT-1 \n",
    "BY VARPREET SINGH\n",
    "\n",
    "QUES-1  Explain the key features of Python that make it a popular choice for programming."
   ]
  },
  {
   "cell_type": "markdown",
   "id": "fce2fdf8-289a-4cb8-842e-8eee1295e6b5",
   "metadata": {},
   "source": [
    "(i)Readability and Simplicity : Python has a clear and straightforward syntax, which makes it easy to read and write. This simplicity helps beginners to learn programming more quickly and allows experienced developers to write clear and maintainable code. It uses natural language elements and  emphasises readability, which reduces the cost of program maintenance."
   ]
  },
  {
   "cell_type": "markdown",
   "id": "7eb1d65d-7ec4-467c-9b9e-01c97a485e57",
   "metadata": {},
   "source": [
    "(ii) Interpreted Language: Python is an interpreted language, which means it executes code line by line. This makes debugging easier and allows for interactive testing."
   ]
  },
  {
   "cell_type": "markdown",
   "id": "d124ef4f-4b5f-4d1e-8ca8-99d671b8bb44",
   "metadata": {},
   "source": [
    "(iii) Versatility: Python is a general-purpose language, and it can be used for a wide variety of applications, including web development, data analysis, artificial intelligence, machine learning, automation, scientific computing and more."
   ]
  },
  {
   "cell_type": "markdown",
   "id": "dc620e49-a16e-4535-a53a-201b1a13fba9",
   "metadata": {},
   "source": [
    "(iv)  Huge Active Community: Python has a large and active community. There are a large number of tutorials, documentation and forums available to help  developers of all levels. The Python Software Foundation also supports the ongoing development and improvement of the language."
   ]
  },
  {
   "cell_type": "markdown",
   "id": "8b98d6ad-9268-4b34-a81a-cd08a59a5b09",
   "metadata": {},
   "source": [
    "(v)  Large Standard Libraries: Python has a rich ecosystem of libraries and frameworks that extend its capabilities. Some of the libraries include NumPy and  pandas for data analysis, TensorFlow and PyTorch for machine learning, Django and Flask for web development and many more."
   ]
  },
  {
   "cell_type": "markdown",
   "id": "35fec86a-91f6-41c3-94ee-6424b29a0a11",
   "metadata": {},
   "source": [
    "(vi) Cross-Platform Compatibility: Python code runs on multiple platforms, including Windows, macOS, and Linux, without requiring any changes, making it highly portable."
   ]
  },
  {
   "cell_type": "markdown",
   "id": "41440d0f-088d-41cd-89e6-1012be885c8f",
   "metadata": {},
   "source": [
    "QUES-2   Describe the role of predefined keywords in Python and provide examples of how they are used in a programme.b"
   ]
  },
  {
   "cell_type": "markdown",
   "id": "9dcc2e69-af0d-405e-b810-94130c50ab91",
   "metadata": {},
   "source": [
    "ANS-     Syntax Structure: Keywords help define the structure of Python programs. They indicate how the code should be interpreted by the            Python interpreter.\n",
    "(i)Flow Control: Keywords like if, else, elif, while, for, and break control the flow of execution in a program."
   ]
  },
  {
   "cell_type": "code",
   "execution_count": 1,
   "id": "431e24c3-8804-4484-b47e-c26e6d44a218",
   "metadata": {},
   "outputs": [
    {
     "name": "stdout",
     "output_type": "stream",
     "text": [
      "You are an adult.\n"
     ]
    }
   ],
   "source": [
    "age = 18\n",
    "if age >= 18:\n",
    "    print(\"You are an adult.\")\n",
    "else:\n",
    "    print(\"You are a minor.\")\n"
   ]
  },
  {
   "cell_type": "markdown",
   "id": "3ffafa3b-e66c-4895-82b2-ed58515ffd71",
   "metadata": {},
   "source": [
    "Looping"
   ]
  },
  {
   "cell_type": "code",
   "execution_count": 2,
   "id": "6a5f77b1-f3ce-49cb-91c8-c9a29a72e0ef",
   "metadata": {},
   "outputs": [
    {
     "name": "stdout",
     "output_type": "stream",
     "text": [
      "0\n",
      "1\n",
      "2\n",
      "3\n",
      "4\n"
     ]
    }
   ],
   "source": [
    "for i in range(5):\n",
    "    print(i)\n"
   ]
  },
  {
   "cell_type": "markdown",
   "id": "eac00d4c-9bd6-4e8f-b0ad-0e6509b85f55",
   "metadata": {},
   "source": [
    "(ii)Data Type Definition: Keywords like class, def, lambda, and return are used to define functions, classes, and lambda functions."
   ]
  },
  {
   "cell_type": "code",
   "execution_count": 6,
   "id": "df6dbf19-5b16-4bd1-bf70-522aab6a197a",
   "metadata": {},
   "outputs": [],
   "source": [
    "def greet(name):\n",
    "    return \"Hello, \" + name\n",
    "#The def keyword defines a function, and return specifies what the function should output."
   ]
  },
  {
   "cell_type": "markdown",
   "id": "e4d136f4-18ca-4659-848d-5061f3c2e202",
   "metadata": {},
   "source": [
    "(iii)Exception Handling: Keywords like try, except, finally, raise, and assert are used for handling errors and exceptions in Python."
   ]
  },
  {
   "cell_type": "code",
   "execution_count": null,
   "id": "20603a81-94f5-470d-96dd-ac58eaa41095",
   "metadata": {},
   "outputs": [],
   "source": [
    "try:\n",
    "    x = 1 / 0\n",
    "except ZeroDivisionError:\n",
    "    print(\"You can't divide by zero!\")\n",
    "#The try and except keywords are used to handle exceptions. If an error occurs in the try block, the code in the except block is executed."
   ]
  },
  {
   "cell_type": "markdown",
   "id": "ca40dd35-993a-48cc-9d2c-f36364707e84",
   "metadata": {},
   "source": [
    "(iv)Data Type Definition: Keywords like class, def, lambda, and return are used to define functions, classes, and lambda functions."
   ]
  },
  {
   "cell_type": "code",
   "execution_count": null,
   "id": "9b7289de-4e57-4410-ade5-df86b693b2e2",
   "metadata": {},
   "outputs": [],
   "source": [
    "class Animal:\n",
    "    def __init__(self, name):\n",
    "        self.name = name\n",
    "#The class keyword is used to define a class, and self is a conventional name for the first argument of instance methods."
   ]
  },
  {
   "cell_type": "markdown",
   "id": "682521c4-5444-412e-92e9-d406a4d2f878",
   "metadata": {},
   "source": [
    "(v)Variable Scope: Keywords like global and nonlocal manage the scope and lifetime of variables."
   ]
  },
  {
   "cell_type": "code",
   "execution_count": null,
   "id": "05c2e952-992f-4ddb-9419-fd5bc268def0",
   "metadata": {},
   "outputs": [],
   "source": [
    "x = 5\n",
    "\n",
    "def modify_global():\n",
    "    global x\n",
    "    x = 10\n",
    "\n",
    "modify_global()\n",
    "print(x)  # Output will be 10\n",
    "#The global keyword allows you to modify the value of a variable that exists outside the current scope."
   ]
  },
  {
   "cell_type": "markdown",
   "id": "d198942b-2f71-4a74-b125-e53065bc3f7c",
   "metadata": {},
   "source": [
    "(vi)Boolean: True, False, None\n",
    "Others: import, as, with, del, from, is, in, not, and, or"
   ]
  },
  {
   "cell_type": "markdown",
   "id": "dc38b107-814a-40e7-8703-f3ff97a09804",
   "metadata": {},
   "source": [
    "QUES-3  Compare and contrast mutable and immutable objects in Python with examples."
   ]
  },
  {
   "cell_type": "markdown",
   "id": "0f8a6616-92c9-43aa-aefc-d31b83db338a",
   "metadata": {},
   "source": [
    "ANS-    Mutable object is an object whose state or contents can be changed after it is created. The value of the object in place, without           creating a new object.\n",
    "        Immutable object is an object whose state or contents cannot be changed after it is created."
   ]
  },
  {
   "cell_type": "markdown",
   "id": "aa774fc8-9863-4955-ab94-c9cfa15d06ea",
   "metadata": {},
   "source": [
    "Differences:\n",
    "(i)Memory Location- Mutable: Retains the same memory location even after the content is modified.\n",
    "                    Immutable: Any modification results in a new object and new memory location."
   ]
  },
  {
   "cell_type": "markdown",
   "id": "6f01f0a2-e557-49d4-bdc0-0c9752618f8b",
   "metadata": {},
   "source": [
    "(ii)Performance- Mutable: It is memory-efficient, as no new objects are created for frequent changes.\n",
    "                 Immutable: It might be faster in some scenarios as there’s no need to track changes."
   ]
  },
  {
   "cell_type": "markdown",
   "id": "b9f15e4f-e8c1-4c0f-b613-2c13dbd71709",
   "metadata": {},
   "source": [
    "(iii)Thread-Safety- Mutable: Not inherently thread-safe. Concurrent modification can lead to unpredictable results.\n",
    "                    Immutable: They are inherently thread-safe due to their unchangeable nature."
   ]
  },
  {
   "cell_type": "markdown",
   "id": "20ce7cfb-6620-456b-9af7-216f5a523102",
   "metadata": {},
   "source": [
    "(iv)Use-cases- Mutable: When you need to modify, add, or remove existing data frequently.\n",
    "               Immutable: When you want to ensure data remains consistent and unaltered."
   ]
  },
  {
   "cell_type": "markdown",
   "id": "19797b95-f83c-4723-be68-0349ac09e6c2",
   "metadata": {},
   "source": [
    "Mutable Examples:\n",
    "Lists:"
   ]
  },
  {
   "cell_type": "code",
   "execution_count": 9,
   "id": "7164509e-8878-41a7-957b-4aef6427c19c",
   "metadata": {},
   "outputs": [
    {
     "name": "stdout",
     "output_type": "stream",
     "text": [
      "[10, 2, 3]\n"
     ]
    }
   ],
   "source": [
    "my_list = [1, 2, 3]\n",
    "my_list[0] = 10\n",
    "print(my_list) "
   ]
  },
  {
   "cell_type": "markdown",
   "id": "069a0247-129c-4884-8d5c-c01e9ff5063b",
   "metadata": {},
   "source": [
    "Dictionaries:"
   ]
  },
  {
   "cell_type": "code",
   "execution_count": 10,
   "id": "99d47bf4-3b93-411e-a0e1-c6b2a27cfd90",
   "metadata": {},
   "outputs": [
    {
     "name": "stdout",
     "output_type": "stream",
     "text": [
      "{'name': 'Alice', 'age': 26}\n"
     ]
    }
   ],
   "source": [
    "my_dict = {'name': 'Alice', 'age': 25}\n",
    "my_dict['age'] = 26\n",
    "print(my_dict)  # Output: {'name': 'Alice', 'age': 26}\n"
   ]
  },
  {
   "cell_type": "markdown",
   "id": "e12c7e49-eb23-4b6b-823f-c76d2f79090d",
   "metadata": {},
   "source": [
    "Immutable Examples:\n",
    "Strings:"
   ]
  },
  {
   "cell_type": "code",
   "execution_count": 1,
   "id": "8ce80831-9d31-4145-a48e-880091b80d5a",
   "metadata": {},
   "outputs": [
    {
     "ename": "TypeError",
     "evalue": "'str' object does not support item assignment",
     "output_type": "error",
     "traceback": [
      "\u001b[0;31m---------------------------------------------------------------------------\u001b[0m",
      "\u001b[0;31mTypeError\u001b[0m                                 Traceback (most recent call last)",
      "Cell \u001b[0;32mIn[1], line 2\u001b[0m\n\u001b[1;32m      1\u001b[0m my_string \u001b[38;5;241m=\u001b[39m \u001b[38;5;124m\"\u001b[39m\u001b[38;5;124mhello\u001b[39m\u001b[38;5;124m\"\u001b[39m\n\u001b[0;32m----> 2\u001b[0m \u001b[43mmy_string\u001b[49m\u001b[43m[\u001b[49m\u001b[38;5;241;43m0\u001b[39;49m\u001b[43m]\u001b[49m \u001b[38;5;241m=\u001b[39m \u001b[38;5;124m'\u001b[39m\u001b[38;5;124mj\u001b[39m\u001b[38;5;124m'\u001b[39m\n\u001b[1;32m      3\u001b[0m \u001b[38;5;28mprint\u001b[39m(my_string)  \n",
      "\u001b[0;31mTypeError\u001b[0m: 'str' object does not support item assignment"
     ]
    }
   ],
   "source": [
    "my_string = \"hello\"\n",
    "my_string[0] = 'j'\n",
    "print(my_string)  "
   ]
  },
  {
   "cell_type": "markdown",
   "id": "08e95881-ac48-4d3e-a5bb-8b4e0bc1aaa8",
   "metadata": {},
   "source": [
    "Tuples:"
   ]
  },
  {
   "cell_type": "code",
   "execution_count": 2,
   "id": "7b1e4afe-a24d-4682-806e-f1e0487a43f3",
   "metadata": {},
   "outputs": [
    {
     "ename": "TypeError",
     "evalue": "'tuple' object does not support item assignment",
     "output_type": "error",
     "traceback": [
      "\u001b[0;31m---------------------------------------------------------------------------\u001b[0m",
      "\u001b[0;31mTypeError\u001b[0m                                 Traceback (most recent call last)",
      "Cell \u001b[0;32mIn[2], line 2\u001b[0m\n\u001b[1;32m      1\u001b[0m my_tuple \u001b[38;5;241m=\u001b[39m (\u001b[38;5;241m1\u001b[39m, \u001b[38;5;241m2\u001b[39m, \u001b[38;5;241m3\u001b[39m)\n\u001b[0;32m----> 2\u001b[0m \u001b[43mmy_tuple\u001b[49m\u001b[43m[\u001b[49m\u001b[38;5;241;43m1\u001b[39;49m\u001b[43m]\u001b[49m \u001b[38;5;241m=\u001b[39m \u001b[38;5;241m4\u001b[39m\n\u001b[1;32m      3\u001b[0m \u001b[38;5;28mprint\u001b[39m(my_tuple)  \n",
      "\u001b[0;31mTypeError\u001b[0m: 'tuple' object does not support item assignment"
     ]
    }
   ],
   "source": [
    "my_tuple = (1, 2, 3)\n",
    "my_tuple[1] = 4\n",
    "print(my_tuple)  "
   ]
  },
  {
   "cell_type": "markdown",
   "id": "71eb91da-d585-49f6-b0d9-98c5f7469be6",
   "metadata": {},
   "source": [
    "QUES-4  Discuss the different types of operators in Python and provide examples of how they are used."
   ]
  },
  {
   "cell_type": "markdown",
   "id": "dcc8d4c3-8bcb-4dd8-82a8-9c332f5cc6a2",
   "metadata": {},
   "source": [
    "(1) Arithmetic operators are used to perform mathematical operations like addition, subtraction, multiplication, etc."
   ]
  },
  {
   "cell_type": "code",
   "execution_count": 2,
   "id": "dcaa2c3f-8c73-418f-ace6-4fc5f451dedd",
   "metadata": {},
   "outputs": [
    {
     "data": {
      "text/plain": [
       "11"
      ]
     },
     "execution_count": 2,
     "metadata": {},
     "output_type": "execute_result"
    }
   ],
   "source": [
    "#Addition (+): Adds two operands.\n",
    "a = 7\n",
    "b = 4\n",
    "result = a + b  \n",
    "result"
   ]
  },
  {
   "cell_type": "code",
   "execution_count": 3,
   "id": "4d710a22-db94-48e6-8121-0c2da3b49809",
   "metadata": {},
   "outputs": [
    {
     "data": {
      "text/plain": [
       "3"
      ]
     },
     "execution_count": 3,
     "metadata": {},
     "output_type": "execute_result"
    }
   ],
   "source": [
    "#Subtraction (-): Subtracts the second operand from the first.\n",
    "result = a - b \n",
    "result"
   ]
  },
  {
   "cell_type": "code",
   "execution_count": 4,
   "id": "70bf0dc4-fe6f-46cf-ba7c-a99586e4b1a8",
   "metadata": {},
   "outputs": [
    {
     "data": {
      "text/plain": [
       "28"
      ]
     },
     "execution_count": 4,
     "metadata": {},
     "output_type": "execute_result"
    }
   ],
   "source": [
    "#Multiplication (*): Multiplies two operands.\n",
    "result = a * b \n",
    "result"
   ]
  },
  {
   "cell_type": "code",
   "execution_count": 5,
   "id": "f1c62a81-9540-4c5a-9739-4c572989ce02",
   "metadata": {},
   "outputs": [
    {
     "data": {
      "text/plain": [
       "1.75"
      ]
     },
     "execution_count": 5,
     "metadata": {},
     "output_type": "execute_result"
    }
   ],
   "source": [
    "#Division (/): Divides the first operand by the second.\n",
    "result = a / b\n",
    "result"
   ]
  },
  {
   "cell_type": "code",
   "execution_count": 6,
   "id": "6453ca47-1ebf-4fa8-8170-f3694b06f594",
   "metadata": {},
   "outputs": [
    {
     "data": {
      "text/plain": [
       "1"
      ]
     },
     "execution_count": 6,
     "metadata": {},
     "output_type": "execute_result"
    }
   ],
   "source": [
    "#Floor Division (//): Divides the first operand by the second and rounds down to the nearest integer.\n",
    "result = a // b\n",
    "result"
   ]
  },
  {
   "cell_type": "code",
   "execution_count": 7,
   "id": "ebc96051-3577-41b3-ac6b-da2c0f8e09ee",
   "metadata": {},
   "outputs": [
    {
     "data": {
      "text/plain": [
       "3"
      ]
     },
     "execution_count": 7,
     "metadata": {},
     "output_type": "execute_result"
    }
   ],
   "source": [
    "#Modulus (%): Returns the remainder of the division.\n",
    "result = a % b\n",
    "result"
   ]
  },
  {
   "cell_type": "code",
   "execution_count": 8,
   "id": "4a3b8738-b474-4795-b411-f9a46bac949a",
   "metadata": {},
   "outputs": [
    {
     "data": {
      "text/plain": [
       "2401"
      ]
     },
     "execution_count": 8,
     "metadata": {},
     "output_type": "execute_result"
    }
   ],
   "source": [
    "#Exponentiation (**): Raises the first operand to the power of the second.\n",
    "result = a ** b\n",
    "result"
   ]
  },
  {
   "cell_type": "markdown",
   "id": "1d25d5f5-f142-4650-968b-dca449db4d84",
   "metadata": {},
   "source": [
    "(2) Comparison operators are used to compare two values. They return True or False based on the comparison."
   ]
  },
  {
   "cell_type": "code",
   "execution_count": 9,
   "id": "365efed7-dfd7-478c-8c0c-c11b2fc10678",
   "metadata": {},
   "outputs": [
    {
     "data": {
      "text/plain": [
       "False"
      ]
     },
     "execution_count": 9,
     "metadata": {},
     "output_type": "execute_result"
    }
   ],
   "source": [
    "#Equal to (==): Checks if two operands are equal.\n",
    "result = (a == b)\n",
    "result"
   ]
  },
  {
   "cell_type": "code",
   "execution_count": 10,
   "id": "93c42e19-d020-42f2-b176-45fc62762a3e",
   "metadata": {},
   "outputs": [
    {
     "data": {
      "text/plain": [
       "True"
      ]
     },
     "execution_count": 10,
     "metadata": {},
     "output_type": "execute_result"
    }
   ],
   "source": [
    "#Not equal to (!=): Checks if two operands are not equal.\n",
    "result = (a != b)\n",
    "result"
   ]
  },
  {
   "cell_type": "code",
   "execution_count": 11,
   "id": "58b2363a-d193-4bc6-ac13-f3b1098362bb",
   "metadata": {},
   "outputs": [
    {
     "data": {
      "text/plain": [
       "True"
      ]
     },
     "execution_count": 11,
     "metadata": {},
     "output_type": "execute_result"
    }
   ],
   "source": [
    "#Greater than (>): Checks if the left operand is greater than the right.\n",
    "result = (a > b)\n",
    "result"
   ]
  },
  {
   "cell_type": "code",
   "execution_count": 12,
   "id": "e0753219-abd0-494c-b03b-46782e1cf5eb",
   "metadata": {},
   "outputs": [
    {
     "data": {
      "text/plain": [
       "False"
      ]
     },
     "execution_count": 12,
     "metadata": {},
     "output_type": "execute_result"
    }
   ],
   "source": [
    "#Less than (<): Checks if the left operand is less than the right.\n",
    "result = (a < b)\n",
    "result"
   ]
  },
  {
   "cell_type": "code",
   "execution_count": 13,
   "id": "2e1de26b-0278-460f-aed6-0075635fb7cf",
   "metadata": {},
   "outputs": [
    {
     "data": {
      "text/plain": [
       "True"
      ]
     },
     "execution_count": 13,
     "metadata": {},
     "output_type": "execute_result"
    }
   ],
   "source": [
    "#Greater than or equal to (>=): Checks if the left operand is greater than or equal to the right.\n",
    "result = (a >= b)\n",
    "result"
   ]
  },
  {
   "cell_type": "code",
   "execution_count": 14,
   "id": "51d72e60-44c8-4dd1-983c-56006ce49b1f",
   "metadata": {},
   "outputs": [
    {
     "data": {
      "text/plain": [
       "False"
      ]
     },
     "execution_count": 14,
     "metadata": {},
     "output_type": "execute_result"
    }
   ],
   "source": [
    "#Less than or equal to (<=): Checks if the left operand is less than or equal to the right.\n",
    "result = (a <= b)\n",
    "result"
   ]
  },
  {
   "cell_type": "raw",
   "id": "ea8b8470-4dfb-4f2c-85d5-d179ff3c81ec",
   "metadata": {},
   "source": [
    "(3) Logical operators are used to combine conditional statements."
   ]
  },
  {
   "cell_type": "code",
   "execution_count": 15,
   "id": "4b9ce6b8-ae33-4739-b90c-5f9fe22f08f1",
   "metadata": {},
   "outputs": [
    {
     "data": {
      "text/plain": [
       "True"
      ]
     },
     "execution_count": 15,
     "metadata": {},
     "output_type": "execute_result"
    }
   ],
   "source": [
    "#AND (and): Returns True if both statements are true.\n",
    "result = (a > 2 and b < 5)\n",
    "result"
   ]
  },
  {
   "cell_type": "code",
   "execution_count": 16,
   "id": "42d3d620-9dba-4d8c-80f8-3e58ee77fd35",
   "metadata": {},
   "outputs": [
    {
     "data": {
      "text/plain": [
       "True"
      ]
     },
     "execution_count": 16,
     "metadata": {},
     "output_type": "execute_result"
    }
   ],
   "source": [
    "#OR (or): Returns True if one of the statements is true.\n",
    "result = (a > 5 or b < 5)\n",
    "result"
   ]
  },
  {
   "cell_type": "code",
   "execution_count": 17,
   "id": "faf72715-861b-4996-8935-512c57117bb1",
   "metadata": {},
   "outputs": [
    {
     "data": {
      "text/plain": [
       "False"
      ]
     },
     "execution_count": 17,
     "metadata": {},
     "output_type": "execute_result"
    }
   ],
   "source": [
    "#NOT (not): Reverses the result, returns False if the result is true.\n",
    "result = not(a > 5)  \n",
    "result"
   ]
  },
  {
   "cell_type": "markdown",
   "id": "dbb4f813-b04d-4cc2-a00c-eadd7e1cb77f",
   "metadata": {},
   "source": [
    "(4) Assignment operators are used to assign values to variables."
   ]
  },
  {
   "cell_type": "code",
   "execution_count": 25,
   "id": "14416e19-8411-43e0-97a8-8a4369c73def",
   "metadata": {},
   "outputs": [
    {
     "data": {
      "text/plain": [
       "7"
      ]
     },
     "execution_count": 25,
     "metadata": {},
     "output_type": "execute_result"
    }
   ],
   "source": [
    "#Assign (=): Assigns the value of the right operand to the left operand.\n",
    "x = 7\n",
    "x"
   ]
  },
  {
   "cell_type": "code",
   "execution_count": 26,
   "id": "88ca000b-cd97-4f25-9551-e9d0ded91d29",
   "metadata": {},
   "outputs": [
    {
     "data": {
      "text/plain": [
       "12"
      ]
     },
     "execution_count": 26,
     "metadata": {},
     "output_type": "execute_result"
    }
   ],
   "source": [
    "#Add and assign (+=): Adds the right operand to the left operand and assigns the result to the left operand.\n",
    "x += 5 \n",
    "x"
   ]
  },
  {
   "cell_type": "code",
   "execution_count": 27,
   "id": "6fb3ed1e-a5ad-4dae-8e96-f7222423b8af",
   "metadata": {},
   "outputs": [
    {
     "data": {
      "text/plain": [
       "9"
      ]
     },
     "execution_count": 27,
     "metadata": {},
     "output_type": "execute_result"
    }
   ],
   "source": [
    "#Subtract and assign (-=): Subtracts the right operand from the left operand and assigns the result to the left operand.\n",
    "x -= 3  \n",
    "x"
   ]
  },
  {
   "cell_type": "code",
   "execution_count": 28,
   "id": "85cd41f1-9f1e-41e0-9692-4bb7c3916ae6",
   "metadata": {},
   "outputs": [
    {
     "data": {
      "text/plain": [
       "18"
      ]
     },
     "execution_count": 28,
     "metadata": {},
     "output_type": "execute_result"
    }
   ],
   "source": [
    "#Multiply and assign (*=): Multiplies the right operand with the left operand and assigns the result to the left operand.\n",
    "x *= 2  \n",
    "x"
   ]
  },
  {
   "cell_type": "code",
   "execution_count": 29,
   "id": "9f4759ac-d786-45be-bcbd-753a1e3645a6",
   "metadata": {},
   "outputs": [
    {
     "data": {
      "text/plain": [
       "4.5"
      ]
     },
     "execution_count": 29,
     "metadata": {},
     "output_type": "execute_result"
    }
   ],
   "source": [
    "#Divide and assign (/=): Divides the left operand by the right operand and assigns the result to the left operand.\n",
    "x /= 4  \n",
    "x"
   ]
  },
  {
   "cell_type": "code",
   "execution_count": 30,
   "id": "1559f72f-a48f-4c4f-b697-15d4d6098b34",
   "metadata": {},
   "outputs": [
    {
     "data": {
      "text/plain": [
       "4.5"
      ]
     },
     "execution_count": 30,
     "metadata": {},
     "output_type": "execute_result"
    }
   ],
   "source": [
    "#Modulus and assign (%=): Takes the modulus of the left operand with the right operand and assigns the result to the left operand.\n",
    "x %= 5  \n",
    "x"
   ]
  },
  {
   "cell_type": "code",
   "execution_count": 31,
   "id": "b947a978-aa2d-45b2-972e-a12d14cd51e1",
   "metadata": {},
   "outputs": [
    {
     "data": {
      "text/plain": [
       "91.125"
      ]
     },
     "execution_count": 31,
     "metadata": {},
     "output_type": "execute_result"
    }
   ],
   "source": [
    "#Exponentiation and assign (**=): Raises the left operand to the power of the right operand and assigns the result to the left operand.\n",
    "x **= 3  \n",
    "x"
   ]
  },
  {
   "cell_type": "markdown",
   "id": "43fe8040-a15e-4ed8-b961-e1383e8fbc8d",
   "metadata": {},
   "source": [
    "(5) Bitwise operators are used to perform bit-level operations on integers."
   ]
  },
  {
   "cell_type": "code",
   "execution_count": 32,
   "id": "c32f4c22-691c-4b57-bd70-9333fe0085d5",
   "metadata": {},
   "outputs": [
    {
     "data": {
      "text/plain": [
       "1"
      ]
     },
     "execution_count": 32,
     "metadata": {},
     "output_type": "execute_result"
    }
   ],
   "source": [
    "#AND (&): Performs a bitwise AND operation.\n",
    "x = 5  #0101 in binary\n",
    "y = 3  #0011 in binary\n",
    "result = x & y\n",
    "result"
   ]
  },
  {
   "cell_type": "code",
   "execution_count": 33,
   "id": "f6bcca7b-586c-4e0e-a5a2-3ea71ba0b565",
   "metadata": {},
   "outputs": [
    {
     "data": {
      "text/plain": [
       "7"
      ]
     },
     "execution_count": 33,
     "metadata": {},
     "output_type": "execute_result"
    }
   ],
   "source": [
    "#OR (|): Performs a bitwise OR operation.\n",
    "result = x | y  \n",
    "result"
   ]
  },
  {
   "cell_type": "code",
   "execution_count": 34,
   "id": "d170c05b-f869-4acb-b44e-3d9259e64698",
   "metadata": {},
   "outputs": [
    {
     "data": {
      "text/plain": [
       "6"
      ]
     },
     "execution_count": 34,
     "metadata": {},
     "output_type": "execute_result"
    }
   ],
   "source": [
    "#XOR (^): Performs a bitwise XOR operation.\n",
    "result = x ^ y \n",
    "result"
   ]
  },
  {
   "cell_type": "code",
   "execution_count": 35,
   "id": "31db4354-b5e9-428e-91f2-d89dee66851f",
   "metadata": {},
   "outputs": [
    {
     "data": {
      "text/plain": [
       "-6"
      ]
     },
     "execution_count": 35,
     "metadata": {},
     "output_type": "execute_result"
    }
   ],
   "source": [
    "#NOT (~): Performs a bitwise NOT operation.\n",
    "result = ~x  \n",
    "result"
   ]
  },
  {
   "cell_type": "code",
   "execution_count": 36,
   "id": "54d6f9e5-3fc7-440e-8bed-72ca53bc8dc3",
   "metadata": {},
   "outputs": [
    {
     "data": {
      "text/plain": [
       "10"
      ]
     },
     "execution_count": 36,
     "metadata": {},
     "output_type": "execute_result"
    }
   ],
   "source": [
    "#Left Shift (<<): Shifts the bits of the left operand to the left by the number of positions specified by the right operand.\n",
    "result = x << 1  \n",
    "result"
   ]
  },
  {
   "cell_type": "code",
   "execution_count": 37,
   "id": "bf7fc089-da2f-4046-833b-3a00cb66b2fc",
   "metadata": {},
   "outputs": [
    {
     "data": {
      "text/plain": [
       "2"
      ]
     },
     "execution_count": 37,
     "metadata": {},
     "output_type": "execute_result"
    }
   ],
   "source": [
    "#Right Shift (>>): Shifts the bits of the left operand to the right by the number of positions specified by the right operand.\n",
    "result = x >> 1  \n",
    "result"
   ]
  },
  {
   "cell_type": "markdown",
   "id": "534982bf-840c-475a-9996-f9c92e5f6fea",
   "metadata": {},
   "source": [
    "(6) Membership operators are used to test whether a value is a member of a sequence such as a list, tuple, or string."
   ]
  },
  {
   "cell_type": "code",
   "execution_count": 38,
   "id": "5a2cdbc6-0490-485b-afef-51406418b32e",
   "metadata": {},
   "outputs": [
    {
     "data": {
      "text/plain": [
       "True"
      ]
     },
     "execution_count": 38,
     "metadata": {},
     "output_type": "execute_result"
    }
   ],
   "source": [
    "#IN (in): Returns True if the value is found in the sequence.\n",
    "my_list = [1, 2, 3, 4]\n",
    "result = 3 in my_list  \n",
    "result"
   ]
  },
  {
   "cell_type": "code",
   "execution_count": 39,
   "id": "cabe09fb-ba88-4f39-9f07-76038d5dcdf2",
   "metadata": {},
   "outputs": [
    {
     "data": {
      "text/plain": [
       "True"
      ]
     },
     "execution_count": 39,
     "metadata": {},
     "output_type": "execute_result"
    }
   ],
   "source": [
    "#NOT IN (not in): Returns True if the value is not found in the sequence.\n",
    "result = 5 not in my_list  \n",
    "result"
   ]
  },
  {
   "cell_type": "markdown",
   "id": "3d230e7c-28b9-4dd4-89d4-ba8571012157",
   "metadata": {},
   "source": [
    "(7) Identity operators are used to compare the memory location of two objects."
   ]
  },
  {
   "cell_type": "code",
   "execution_count": 40,
   "id": "77d2d30b-0fd2-45b3-af23-b7dfb234344a",
   "metadata": {},
   "outputs": [
    {
     "data": {
      "text/plain": [
       "True"
      ]
     },
     "execution_count": 40,
     "metadata": {},
     "output_type": "execute_result"
    }
   ],
   "source": [
    "#IS (is): Returns True if the two variables point to the same object.\n",
    "a = [1, 2, 3]\n",
    "b = a\n",
    "result = a is b  \n",
    "result"
   ]
  },
  {
   "cell_type": "code",
   "execution_count": 41,
   "id": "20deb6de-16ad-4309-844e-cdbc12e7bb56",
   "metadata": {},
   "outputs": [
    {
     "data": {
      "text/plain": [
       "True"
      ]
     },
     "execution_count": 41,
     "metadata": {},
     "output_type": "execute_result"
    }
   ],
   "source": [
    "#IS NOT (is not): Returns True if the two variables do not point to the same object.\n",
    "c = [1, 2, 3]\n",
    "result = a is not c \n",
    "result"
   ]
  },
  {
   "cell_type": "markdown",
   "id": "e96ac2f5-e106-4280-8207-620dc231adb3",
   "metadata": {},
   "source": [
    "QUES-5  Explain the concept of type casting in Python with examples."
   ]
  },
  {
   "cell_type": "markdown",
   "id": "62daf5f0-d7a7-4b83-a675-885ee83d19e3",
   "metadata": {},
   "source": [
    "ANS-    Type casting in Python refers to the process of converting one data type into another. This is useful when you need to perform operations             between different types or when you want to change the type of a variable to fit a specific context.\n"
   ]
  },
  {
   "cell_type": "markdown",
   "id": "746f69b5-3bec-465e-8729-70dd0d746f32",
   "metadata": {},
   "source": [
    "TYPES:"
   ]
  },
  {
   "cell_type": "markdown",
   "id": "929794e5-2392-4aaa-975a-97f8de90274a",
   "metadata": {},
   "source": [
    "Implicit type casting occurs automatically when Python converts one data type to another without any user intervention. This typically happens when performing operations between different types where Python automatically promotes the smaller data type to a larger one to avoid data loss."
   ]
  },
  {
   "cell_type": "code",
   "execution_count": 42,
   "id": "c279cd90-3b75-4aa0-a3aa-61f6c05cf530",
   "metadata": {},
   "outputs": [
    {
     "name": "stdout",
     "output_type": "stream",
     "text": [
      "9.9\n",
      "<class 'float'>\n"
     ]
    }
   ],
   "source": [
    "a = 7   # Integer\n",
    "b = 2.9 # Float\n",
    "\n",
    "result = a + b\n",
    "print(result)        \n",
    "print(type(result)) "
   ]
  },
  {
   "cell_type": "markdown",
   "id": "4324ac93-bf21-4143-a268-5f2aeebc96d2",
   "metadata": {},
   "source": [
    "Explicit type casting is when you manually convert one data type into another using Python's built-in functions. This is necessary when Python cannot implicitly convert the data types, or when you want to force the conversion."
   ]
  },
  {
   "cell_type": "markdown",
   "id": "5cf33ece-bf3a-4274-b448-52cde2c6b60e",
   "metadata": {},
   "source": [
    "int(): Converts a value to an integer."
   ]
  },
  {
   "cell_type": "markdown",
   "id": "8ae3bf12-5075-490a-9e95-a2d1f7c4e7f9",
   "metadata": {},
   "source": [
    "float(): Converts a value to a float."
   ]
  },
  {
   "cell_type": "markdown",
   "id": "5be60cf6-8c55-42ac-9ed6-d3c196a46a13",
   "metadata": {},
   "source": [
    "str(): Converts a value to a string."
   ]
  },
  {
   "cell_type": "markdown",
   "id": "6e573fe9-1a3f-4a0f-aa25-4183fba33641",
   "metadata": {},
   "source": [
    "list(): Converts a value to a list."
   ]
  },
  {
   "cell_type": "markdown",
   "id": "0876c859-131a-407a-b1b0-8827a79275c3",
   "metadata": {},
   "source": [
    "tuple(): Converts a value to a tuple."
   ]
  },
  {
   "cell_type": "markdown",
   "id": "31957a41-a2f2-4c13-abf1-6c1877e1a524",
   "metadata": {},
   "source": [
    "set(): Converts a value to a set."
   ]
  },
  {
   "cell_type": "code",
   "execution_count": 43,
   "id": "4f20c1b8-5e57-491a-b721-8b1acba91e3a",
   "metadata": {},
   "outputs": [
    {
     "name": "stdout",
     "output_type": "stream",
     "text": [
      "7\n",
      "<class 'int'>\n"
     ]
    }
   ],
   "source": [
    "#Converting a Float to an Integer:\n",
    "a = 7.7\n",
    "b = int(a)\n",
    "print(b)          \n",
    "print(type(b))    "
   ]
  },
  {
   "cell_type": "code",
   "execution_count": 44,
   "id": "e3551288-9315-4fc1-86d8-99f31a27cdef",
   "metadata": {},
   "outputs": [
    {
     "name": "stdout",
     "output_type": "stream",
     "text": [
      "(1, 2, 3)\n",
      "<class 'tuple'>\n"
     ]
    }
   ],
   "source": [
    "#Converting a List to a Tuple:\n",
    "a = [1, 2, 3]\n",
    "b = tuple(a)\n",
    "print(b)          \n",
    "print(type(b))    \n"
   ]
  },
  {
   "cell_type": "markdown",
   "id": "472fb086-c578-4b37-a0b5-c22c82e5b6ea",
   "metadata": {},
   "source": [
    "QUES-6  How do conditional statements work in Python? Illustrate with examples."
   ]
  },
  {
   "cell_type": "markdown",
   "id": "3b41defc-7e28-4173-83f0-e19442cdc6a3",
   "metadata": {},
   "source": [
    "ANS-    Conditional statements in Python allow you to execute certain blocks of code based on whether a condition is True or False. These statements enable decision-making in your programs, where different outcomes can occur depending on the evaluation of conditions."
   ]
  },
  {
   "cell_type": "markdown",
   "id": "254a7196-40c9-472e-9d66-4fff2e6b81f1",
   "metadata": {},
   "source": [
    "TYPES:"
   ]
  },
  {
   "cell_type": "markdown",
   "id": "ef04de56-1b54-42cc-8e8b-085f91f7d471",
   "metadata": {},
   "source": [
    "--> The if statement is the simplest form of a conditional. It checks a condition, and if the condition evaluates to True, the indented block of code following the if statement is executed."
   ]
  },
  {
   "cell_type": "code",
   "execution_count": 45,
   "id": "6a7b1934-1e2e-4cde-a755-0628eecd55fc",
   "metadata": {},
   "outputs": [
    {
     "name": "stdout",
     "output_type": "stream",
     "text": [
      "You are eligible to vote.\n"
     ]
    }
   ],
   "source": [
    "#example\n",
    "age = 18\n",
    "if age >= 18:\n",
    "    print(\"You are eligible to vote.\")\n"
   ]
  },
  {
   "cell_type": "markdown",
   "id": "80ffb621-f71e-4d84-9a45-021c789340dc",
   "metadata": {},
   "source": [
    "--> The if-else statement provides an alternative path of execution when the if condition is False."
   ]
  },
  {
   "cell_type": "code",
   "execution_count": 46,
   "id": "ccbc42c7-9d85-4afe-8b37-dc3f1a42a0a6",
   "metadata": {},
   "outputs": [
    {
     "name": "stdout",
     "output_type": "stream",
     "text": [
      "You are not eligible to vote.\n"
     ]
    }
   ],
   "source": [
    "#example\n",
    "age = 16\n",
    "if age >= 18:\n",
    "    print(\"You are eligible to vote.\")\n",
    "else:\n",
    "    print(\"You are not eligible to vote.\")\n"
   ]
  },
  {
   "cell_type": "markdown",
   "id": "b2f70550-c7d4-48fe-ba4d-12950a5d0ce4",
   "metadata": {},
   "source": [
    "--> The if-elif-else statement allows you to check multiple conditions sequentially. The first condition that evaluates to True will have its corresponding block of code executed. If none of the conditions are True, the else block is executed."
   ]
  },
  {
   "cell_type": "code",
   "execution_count": 47,
   "id": "dc20fcad-9eeb-444a-b0c4-abae5de5a46d",
   "metadata": {},
   "outputs": [
    {
     "name": "stdout",
     "output_type": "stream",
     "text": [
      "Grade: B\n"
     ]
    }
   ],
   "source": [
    "#example\n",
    "marks = 85\n",
    "\n",
    "if marks >= 90:\n",
    "    print(\"Grade: A\")\n",
    "elif marks >= 80:\n",
    "    print(\"Grade: B\")\n",
    "elif marks >= 70:\n",
    "    print(\"Grade: C\")\n",
    "else:\n",
    "    print(\"Grade: D\")\n"
   ]
  },
  {
   "cell_type": "markdown",
   "id": "5e4ef158-45c0-4c4b-9ac3-7ff65402d059",
   "metadata": {},
   "source": [
    "--> A nested if statement is an if statement inside another if or else block. It allows for more complex decision-making processes."
   ]
  },
  {
   "cell_type": "code",
   "execution_count": 48,
   "id": "d700a928-d89b-4c4b-bc6e-31c65f4703b1",
   "metadata": {},
   "outputs": [
    {
     "name": "stdout",
     "output_type": "stream",
     "text": [
      "You are eligible to vote.\n"
     ]
    }
   ],
   "source": [
    "#example\n",
    "age = 20\n",
    "citizen = True\n",
    "\n",
    "if age >= 18:\n",
    "    if citizen:\n",
    "        print(\"You are eligible to vote.\")\n",
    "    else:\n",
    "        print(\"You are not a citizen, so you cannot vote.\")\n",
    "else:\n",
    "    print(\"You are not old enough to vote.\")\n"
   ]
  },
  {
   "cell_type": "markdown",
   "id": "cc367937-9427-48f2-87db-7539f2b656e2",
   "metadata": {},
   "source": [
    "QUES-7  Describe the different types of loops in Python and their use cases with examples."
   ]
  },
  {
   "cell_type": "markdown",
   "id": "f84a40cc-cf07-40f7-af59-38c3bf5bf8d3",
   "metadata": {},
   "source": [
    "ANS-   (1) The while loop repeatedly executes a block of code as long as the given condition is True. It is primarily used when the number of iterations is not known beforehand."
   ]
  },
  {
   "cell_type": "code",
   "execution_count": 49,
   "id": "cb555f19-9e62-49e7-993a-c930ba10e1d3",
   "metadata": {},
   "outputs": [
    {
     "name": "stdout",
     "output_type": "stream",
     "text": [
      "Count: 0\n",
      "Count: 1\n",
      "Count: 2\n",
      "Count: 3\n",
      "Count: 4\n"
     ]
    }
   ],
   "source": [
    "#example\n",
    "count = 0\n",
    "while count < 5:\n",
    "    print(\"Count:\", count)\n",
    "    count += 1"
   ]
  },
  {
   "cell_type": "markdown",
   "id": "e4d50ff1-ee0d-4278-81d4-06de4bcb5f06",
   "metadata": {},
   "source": [
    "Use Case:"
   ]
  },
  {
   "cell_type": "markdown",
   "id": "6f81e631-877a-41ab-8255-1f8454ef328a",
   "metadata": {},
   "source": [
    "User input validation: Continue asking for input until valid data is provided.\n",
    "Waiting for an event: Repeatedly check for a condition until it is met."
   ]
  },
  {
   "cell_type": "markdown",
   "id": "0b2d6ad9-891f-4cd5-8440-0f1399e3fb9e",
   "metadata": {},
   "source": [
    "(2) The for loop is used to iterate over a sequence (e.g., list, tuple, string, or range) or other iterable objects. It is best used when you know the number of iterations in advance."
   ]
  },
  {
   "cell_type": "code",
   "execution_count": 50,
   "id": "f056b770-d837-4552-887b-352b1713292a",
   "metadata": {},
   "outputs": [
    {
     "name": "stdout",
     "output_type": "stream",
     "text": [
      "apple\n",
      "banana\n",
      "cherry\n"
     ]
    }
   ],
   "source": [
    "#example\n",
    "fruits = [\"apple\", \"banana\", \"cherry\"]\n",
    "for fruit in fruits:\n",
    "    print(fruit)"
   ]
  },
  {
   "cell_type": "markdown",
   "id": "f9edf329-42a5-44e7-8e3f-8ca11de6c5ca",
   "metadata": {},
   "source": [
    "Use Case:"
   ]
  },
  {
   "cell_type": "markdown",
   "id": "cdee96ce-8f27-478b-bfb0-a1b1c289588e",
   "metadata": {},
   "source": [
    "Iterating over collections: Go through all items in a list, tuple, or dictionary.\n",
    "Iterating with a counter: Use the range() function to repeat an action a specific number of times."
   ]
  },
  {
   "cell_type": "code",
   "execution_count": 51,
   "id": "3a3016a7-27a1-4d15-9c82-1a43ad51fd9a",
   "metadata": {},
   "outputs": [
    {
     "name": "stdout",
     "output_type": "stream",
     "text": [
      "0\n",
      "1\n",
      "2\n",
      "3\n",
      "4\n"
     ]
    }
   ],
   "source": [
    "#example with range\n",
    "for i in range(5):\n",
    "    print(i)"
   ]
  },
  {
   "cell_type": "markdown",
   "id": "ce9577a2-bac5-4b6f-9b34-490264af100a",
   "metadata": {},
   "source": [
    "(3) Nested loops are loops inside another loop. They are used when you need to perform complex iterations, like iterating over a matrix or a list of lists."
   ]
  },
  {
   "cell_type": "code",
   "execution_count": 52,
   "id": "d730bc0b-8bab-4a8a-9eb7-030837550d48",
   "metadata": {},
   "outputs": [
    {
     "name": "stdout",
     "output_type": "stream",
     "text": [
      "1 2 3 \n",
      "4 5 6 \n",
      "7 8 9 \n"
     ]
    }
   ],
   "source": [
    "#example\n",
    "matrix = [[1, 2, 3], [4, 5, 6], [7, 8, 9]]\n",
    "\n",
    "for row in matrix:\n",
    "    for num in row:\n",
    "        print(num, end=\" \")\n",
    "    print()"
   ]
  },
  {
   "cell_type": "markdown",
   "id": "69c0eee6-ce96-4a0e-b9b6-c453db25be9d",
   "metadata": {},
   "source": [
    "Use Case:"
   ]
  },
  {
   "cell_type": "markdown",
   "id": "90e35433-4465-413c-95c4-3c6df4117cda",
   "metadata": {},
   "source": [
    "Working with matrices: Iterating over rows and columns.\n",
    "Multiple levels of iteration: Like iterating over a list of dictionaries."
   ]
  },
  {
   "cell_type": "markdown",
   "id": "ebfa8a3d-9355-417b-9328-10d6a1a6861b",
   "metadata": {},
   "source": [
    "(4) Python provides several control statements to modify the behavior of loops:"
   ]
  },
  {
   "cell_type": "code",
   "execution_count": 53,
   "id": "13b1b40b-bcf0-4849-8df9-2efb5a2a6c21",
   "metadata": {},
   "outputs": [
    {
     "name": "stdout",
     "output_type": "stream",
     "text": [
      "0\n",
      "1\n",
      "2\n",
      "3\n",
      "4\n"
     ]
    }
   ],
   "source": [
    "#The break statement immediately exits the loop, regardless of the iteration.\n",
    "for i in range(10):\n",
    "    if i == 5:\n",
    "        break\n",
    "    print(i)"
   ]
  },
  {
   "cell_type": "markdown",
   "id": "a76385b5-7c81-4fc3-b7ec-7dfbf0cb0f01",
   "metadata": {},
   "source": [
    "Use Case:"
   ]
  },
  {
   "cell_type": "markdown",
   "id": "7be96c85-b263-4174-a08b-b79b6a53f6e3",
   "metadata": {},
   "source": [
    "Exiting early: When a specific condition is met (e.g., finding an item in a list)."
   ]
  },
  {
   "cell_type": "code",
   "execution_count": 54,
   "id": "bea3d253-1371-42ae-a0bc-b2e8bcfd406d",
   "metadata": {},
   "outputs": [
    {
     "name": "stdout",
     "output_type": "stream",
     "text": [
      "0\n",
      "1\n",
      "2\n",
      "4\n"
     ]
    }
   ],
   "source": [
    "#The continue statement skips the rest of the current iteration and moves to the next iteration of the loop.\n",
    "for i in range(5):\n",
    "    if i == 3:\n",
    "        continue\n",
    "    print(i)"
   ]
  },
  {
   "cell_type": "markdown",
   "id": "478aca56-b26e-4827-a712-e4c1aaa46bfc",
   "metadata": {},
   "source": [
    "Use Case:"
   ]
  },
  {
   "cell_type": "markdown",
   "id": "2a66b15b-915b-4f23-84c9-a16bc31fea4e",
   "metadata": {},
   "source": [
    "Skipping specific cases: For example, processing all items in a list except those that meet a certain condition."
   ]
  },
  {
   "cell_type": "code",
   "execution_count": 55,
   "id": "7a4857e7-7d92-4e2a-980d-3f9aee56fb2e",
   "metadata": {},
   "outputs": [
    {
     "name": "stdout",
     "output_type": "stream",
     "text": [
      "0\n",
      "1\n",
      "2\n",
      "4\n"
     ]
    }
   ],
   "source": [
    "#The pass statement does nothing and is used as a placeholder in loops, functions, classes, etc.\n",
    "for i in range(5):\n",
    "    if i == 3:\n",
    "        pass\n",
    "    else:\n",
    "        print(i)"
   ]
  },
  {
   "cell_type": "markdown",
   "id": "3c64cd8a-6173-4a64-b0a0-d2803527f9fb",
   "metadata": {},
   "source": [
    "Use Case:"
   ]
  },
  {
   "cell_type": "markdown",
   "id": "7f78fa0e-975f-459c-9f6b-7c559e1558eb",
   "metadata": {},
   "source": [
    "Placeholder: When writing loops where logic isn't implemented yet but you want to keep the loop structure."
   ]
  },
  {
   "cell_type": "code",
   "execution_count": null,
   "id": "f2fefdb7-477a-4c6c-bcc0-4ba50e9a34f5",
   "metadata": {},
   "outputs": [],
   "source": []
  }
 ],
 "metadata": {
  "kernelspec": {
   "display_name": "Python 3 (ipykernel)",
   "language": "python",
   "name": "python3"
  },
  "language_info": {
   "codemirror_mode": {
    "name": "ipython",
    "version": 3
   },
   "file_extension": ".py",
   "mimetype": "text/x-python",
   "name": "python",
   "nbconvert_exporter": "python",
   "pygments_lexer": "ipython3",
   "version": "3.10.8"
  }
 },
 "nbformat": 4,
 "nbformat_minor": 5
}
